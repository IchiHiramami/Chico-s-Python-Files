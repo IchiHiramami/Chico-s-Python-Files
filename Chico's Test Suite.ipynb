{
 "cells": [
  {
   "cell_type": "code",
   "execution_count": 27,
   "id": "bc614a0d",
   "metadata": {},
   "outputs": [
    {
     "name": "stdout",
     "output_type": "stream",
     "text": [
      "Ring Band Choices\n",
      "BLACK \n",
      " 0 1 _\n",
      "BROWN \n",
      " 1 10 0.01\n",
      "RED \n",
      " 2 100 0.02\n",
      "ORANGE \n",
      " 3 1000 0.03\n",
      "YELLOW \n",
      " 4 10000 0.04\n",
      "GREEN \n",
      " 5 100000 0.005\n",
      "BLUE \n",
      " 6 1000000 0.0025\n",
      "VIOLET \n",
      " 7 10000000 0.001\n",
      "GREY \n",
      " 8 100000000 0.0005\n",
      "WHITE \n",
      " 9 1000000000 0\n",
      "GOLD \n",
      " 0 0.1 0\n",
      "SILVER \n",
      " 0 0.01 0\n",
      "NONE \n",
      " 0 0 0\n"
     ]
    }
   ],
   "source": [
    "bands = {\n",
    "    \"BLACK\":   {\"digit\": 0, \"multiplier\": 1,        \"tolerance\": \"_\"},\n",
    "    \"BROWN\":   {\"digit\": 1, \"multiplier\": 10,       \"tolerance\": 0.01},\n",
    "    \"RED\":     {\"digit\": 2, \"multiplier\": 100,      \"tolerance\": 0.02},\n",
    "    \"ORANGE\":  {\"digit\": 3, \"multiplier\": 1000,     \"tolerance\": 0.03},\n",
    "    \"YELLOW\":  {\"digit\": 4, \"multiplier\": 10000,    \"tolerance\": 0.04},\n",
    "    \"GREEN\":   {\"digit\": 5, \"multiplier\": 100000,   \"tolerance\": 0.005},\n",
    "    \"BLUE\":    {\"digit\": 6, \"multiplier\": 1000000,  \"tolerance\": 0.0025},\n",
    "    \"VIOLET\":  {\"digit\": 7, \"multiplier\": 10000000, \"tolerance\": 0.001},\n",
    "    \"GREY\":    {\"digit\": 8, \"multiplier\": 100000000,\"tolerance\": 0.0005},\n",
    "    \"WHITE\":   {\"digit\": 9, \"multiplier\": 1000000000,\"tolerance\": 0},\n",
    "    \"GOLD\":    {\"digit\": 0, \"multiplier\": 0.1,    \"tolerance\": 0},\n",
    "    \"SILVER\":  {\"digit\": 0, \"multiplier\": 0.01,   \"tolerance\": 0},\n",
    "    \"NONE\":    {\"digit\": 0, \"multiplier\": 0,    \"tolerance\": 0}\n",
    "}\n",
    "\n",
    "print(\"Ring Band Choices\")\n",
    "for color, property in bands.items():\n",
    "    print(color,\"\\n\" ,property[\"digit\"], property[\"multiplier\"], property[\"tolerance\"])\n"
   ]
  },
  {
   "cell_type": "code",
   "execution_count": 28,
   "id": "2bc4e28d",
   "metadata": {},
   "outputs": [
    {
     "name": "stdout",
     "output_type": "stream",
     "text": [
      "Ring Band Choices\n",
      "BLACK \n",
      " 0 1 _\n",
      "BROWN \n",
      " 1 10 0.01\n",
      "RED \n",
      " 2 100 0.02\n",
      "ORANGE \n",
      " 3 1000 0.03\n",
      "YELLOW \n",
      " 4 10000 0.04\n",
      "GREEN \n",
      " 5 100000 0.005\n",
      "BLUE \n",
      " 6 1000000 0.0025\n",
      "VIOLET \n",
      " 7 10000000 0.001\n",
      "GREY \n",
      " 8 100000000 0.0005\n",
      "WHITE \n",
      " 9 1000000000 0\n",
      "GOLD \n",
      " 0 0.1 0\n",
      "SILVER \n",
      " 0 0.01 0\n",
      "NONE \n",
      " 0 0 0\n",
      "The first band color has no corresponding value\n"
     ]
    },
    {
     "ename": "KeyboardInterrupt",
     "evalue": "Interrupted by user",
     "output_type": "error",
     "traceback": [
      "\u001b[31m---------------------------------------------------------------------------\u001b[39m",
      "\u001b[31mKeyboardInterrupt\u001b[39m                         Traceback (most recent call last)",
      "\u001b[36mCell\u001b[39m\u001b[36m \u001b[39m\u001b[32mIn[28]\u001b[39m\u001b[32m, line 7\u001b[39m\n\u001b[32m      3\u001b[39m     \u001b[38;5;28mprint\u001b[39m(color,\u001b[33m\"\u001b[39m\u001b[38;5;130;01m\\n\u001b[39;00m\u001b[33m\"\u001b[39m ,\u001b[38;5;28mproperty\u001b[39m[\u001b[33m\"\u001b[39m\u001b[33mdigit\u001b[39m\u001b[33m\"\u001b[39m], \u001b[38;5;28mproperty\u001b[39m[\u001b[33m\"\u001b[39m\u001b[33mmultiplier\u001b[39m\u001b[33m\"\u001b[39m], \u001b[38;5;28mproperty\u001b[39m[\u001b[33m\"\u001b[39m\u001b[33mtolerance\u001b[39m\u001b[33m\"\u001b[39m])\n\u001b[32m      6\u001b[39m \u001b[38;5;28;01mwhile\u001b[39;00m \u001b[38;5;28;01mTrue\u001b[39;00m:\n\u001b[32m----> \u001b[39m\u001b[32m7\u001b[39m     bandC1 = \u001b[38;5;28;43minput\u001b[39;49m\u001b[43m(\u001b[49m\u001b[33;43m\"\u001b[39;49m\u001b[33;43mEnter Color of First Ring: \u001b[39;49m\u001b[33;43m\"\u001b[39;49m\u001b[43m)\u001b[49m.upper()\n\u001b[32m      8\u001b[39m     bandC2 = \u001b[38;5;28minput\u001b[39m(\u001b[33m\"\u001b[39m\u001b[33mEnter Color of Second Ring:\u001b[39m\u001b[33m\"\u001b[39m).upper()\n\u001b[32m      9\u001b[39m     bandC3 = \u001b[38;5;28minput\u001b[39m(\u001b[33m\"\u001b[39m\u001b[33mEnter Color of Third Ring:\u001b[39m\u001b[33m\"\u001b[39m).upper()\n",
      "\u001b[36mFile \u001b[39m\u001b[32m~\\AppData\\Local\\Packages\\PythonSoftwareFoundation.Python.3.12_qbz5n2kfra8p0\\LocalCache\\local-packages\\Python312\\site-packages\\ipykernel\\kernelbase.py:1275\u001b[39m, in \u001b[36mKernel.raw_input\u001b[39m\u001b[34m(self, prompt)\u001b[39m\n\u001b[32m   1273\u001b[39m     msg = \u001b[33m\"\u001b[39m\u001b[33mraw_input was called, but this frontend does not support input requests.\u001b[39m\u001b[33m\"\u001b[39m\n\u001b[32m   1274\u001b[39m     \u001b[38;5;28;01mraise\u001b[39;00m StdinNotImplementedError(msg)\n\u001b[32m-> \u001b[39m\u001b[32m1275\u001b[39m \u001b[38;5;28;01mreturn\u001b[39;00m \u001b[38;5;28;43mself\u001b[39;49m\u001b[43m.\u001b[49m\u001b[43m_input_request\u001b[49m\u001b[43m(\u001b[49m\n\u001b[32m   1276\u001b[39m \u001b[43m    \u001b[49m\u001b[38;5;28;43mstr\u001b[39;49m\u001b[43m(\u001b[49m\u001b[43mprompt\u001b[49m\u001b[43m)\u001b[49m\u001b[43m,\u001b[49m\n\u001b[32m   1277\u001b[39m \u001b[43m    \u001b[49m\u001b[38;5;28;43mself\u001b[39;49m\u001b[43m.\u001b[49m\u001b[43m_parent_ident\u001b[49m\u001b[43m[\u001b[49m\u001b[33;43m\"\u001b[39;49m\u001b[33;43mshell\u001b[39;49m\u001b[33;43m\"\u001b[39;49m\u001b[43m]\u001b[49m\u001b[43m,\u001b[49m\n\u001b[32m   1278\u001b[39m \u001b[43m    \u001b[49m\u001b[38;5;28;43mself\u001b[39;49m\u001b[43m.\u001b[49m\u001b[43mget_parent\u001b[49m\u001b[43m(\u001b[49m\u001b[33;43m\"\u001b[39;49m\u001b[33;43mshell\u001b[39;49m\u001b[33;43m\"\u001b[39;49m\u001b[43m)\u001b[49m\u001b[43m,\u001b[49m\n\u001b[32m   1279\u001b[39m \u001b[43m    \u001b[49m\u001b[43mpassword\u001b[49m\u001b[43m=\u001b[49m\u001b[38;5;28;43;01mFalse\u001b[39;49;00m\u001b[43m,\u001b[49m\n\u001b[32m   1280\u001b[39m \u001b[43m\u001b[49m\u001b[43m)\u001b[49m\n",
      "\u001b[36mFile \u001b[39m\u001b[32m~\\AppData\\Local\\Packages\\PythonSoftwareFoundation.Python.3.12_qbz5n2kfra8p0\\LocalCache\\local-packages\\Python312\\site-packages\\ipykernel\\kernelbase.py:1320\u001b[39m, in \u001b[36mKernel._input_request\u001b[39m\u001b[34m(self, prompt, ident, parent, password)\u001b[39m\n\u001b[32m   1317\u001b[39m \u001b[38;5;28;01mexcept\u001b[39;00m \u001b[38;5;167;01mKeyboardInterrupt\u001b[39;00m:\n\u001b[32m   1318\u001b[39m     \u001b[38;5;66;03m# re-raise KeyboardInterrupt, to truncate traceback\u001b[39;00m\n\u001b[32m   1319\u001b[39m     msg = \u001b[33m\"\u001b[39m\u001b[33mInterrupted by user\u001b[39m\u001b[33m\"\u001b[39m\n\u001b[32m-> \u001b[39m\u001b[32m1320\u001b[39m     \u001b[38;5;28;01mraise\u001b[39;00m \u001b[38;5;167;01mKeyboardInterrupt\u001b[39;00m(msg) \u001b[38;5;28;01mfrom\u001b[39;00m\u001b[38;5;250m \u001b[39m\u001b[38;5;28;01mNone\u001b[39;00m\n\u001b[32m   1321\u001b[39m \u001b[38;5;28;01mexcept\u001b[39;00m \u001b[38;5;167;01mException\u001b[39;00m:\n\u001b[32m   1322\u001b[39m     \u001b[38;5;28mself\u001b[39m.log.warning(\u001b[33m\"\u001b[39m\u001b[33mInvalid Message:\u001b[39m\u001b[33m\"\u001b[39m, exc_info=\u001b[38;5;28;01mTrue\u001b[39;00m)\n",
      "\u001b[31mKeyboardInterrupt\u001b[39m: Interrupted by user"
     ]
    }
   ],
   "source": [
    "print(\"Ring Band Choices\")\n",
    "for color, property in bands.items():\n",
    "    print(color,\"\\n\" ,property[\"digit\"], property[\"multiplier\"], property[\"tolerance\"])\n",
    "\n",
    "\n",
    "while True:\n",
    "    bandC1 = input(\"Enter Color of First Ring: \").upper()\n",
    "    bandC2 = input(\"Enter Color of Second Ring:\").upper()\n",
    "    bandC3 = input(\"Enter Color of Third Ring:\").upper()\n",
    "    bandC4 = input(\"Enter Color of Fourth Ring:\").upper()\n",
    "    \n",
    "    inputtedBands = [bandC1,bandC2,bandC3,bandC4]\n",
    "\n",
    "    if bands[bandC1][\"digit\"] == 0:\n",
    "        input(\"The first band color has no corresponding value. [ENTER TO CONTINUE]\")\n",
    "        continue\n",
    "    \n",
    "    if bands[bandC2][\"digit\"] == 0:\n",
    "        input(\"The second band color has no corresponding value. [ENTER TO CONTINUE]\")\n",
    "        continue\n",
    "\n",
    "    if all(i in bands for i in inputtedBands):\n",
    "        break\n",
    "    else:\n",
    "        print(\"An unsupported color was entered, please try again\")"
   ]
  },
  {
   "cell_type": "code",
   "execution_count": null,
   "id": "1968fc21",
   "metadata": {},
   "outputs": [
    {
     "name": "stdout",
     "output_type": "stream",
     "text": [
      "100 ohms\n"
     ]
    }
   ],
   "source": [
    "\n",
    "value = ((bands[bandC1][\"digit\"]*10 + bands[bandC2][\"digit\"])*bands[bandC3][\"multiplier\"])\n",
    "print(value,\"ohms\")\n"
   ]
  }
 ],
 "metadata": {
  "kernelspec": {
   "display_name": "Python 3",
   "language": "python",
   "name": "python3"
  },
  "language_info": {
   "codemirror_mode": {
    "name": "ipython",
    "version": 3
   },
   "file_extension": ".py",
   "mimetype": "text/x-python",
   "name": "python",
   "nbconvert_exporter": "python",
   "pygments_lexer": "ipython3",
   "version": "3.12.10"
  }
 },
 "nbformat": 4,
 "nbformat_minor": 5
}
