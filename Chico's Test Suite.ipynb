{
 "cells": [
  {
   "cell_type": "code",
   "execution_count": 1,
   "id": "bc614a0d",
   "metadata": {},
   "outputs": [
    {
     "name": "stdout",
     "output_type": "stream",
     "text": [
      "Ring Band Choices\n",
      "BLACK \n",
      " 0 1 _\n",
      "BROWN \n",
      " 1 10 0.01\n",
      "RED \n",
      " 2 100 0.02\n",
      "ORANGE \n",
      " 3 1000 0.03\n",
      "YELLOW \n",
      " 4 10000 0.04\n",
      "GREEN \n",
      " 5 100000 0.005\n",
      "BLUE \n",
      " 6 1000000 0.0025\n",
      "VIOLET \n",
      " 7 10000000 0.001\n",
      "GREY \n",
      " 8 100000000 0.0005\n",
      "WHITE \n",
      " 9 1000000000 0\n",
      "GOLD \n",
      " 0 0.1 0\n",
      "SILVER \n",
      " 0 0.01 0\n",
      "NONE \n",
      " 0 0 0\n"
     ]
    }
   ],
   "source": [
    "bands = {\n",
    "    \"BLACK\":   {\"digit\": 0, \"multiplier\": 1,        \"tolerance\": \"_\"},\n",
    "    \"BROWN\":   {\"digit\": 1, \"multiplier\": 10,       \"tolerance\": 0.01},\n",
    "    \"RED\":     {\"digit\": 2, \"multiplier\": 100,      \"tolerance\": 0.02},\n",
    "    \"ORANGE\":  {\"digit\": 3, \"multiplier\": 1000,     \"tolerance\": 0.03},\n",
    "    \"YELLOW\":  {\"digit\": 4, \"multiplier\": 10000,    \"tolerance\": 0.04},\n",
    "    \"GREEN\":   {\"digit\": 5, \"multiplier\": 100000,   \"tolerance\": 0.005},\n",
    "    \"BLUE\":    {\"digit\": 6, \"multiplier\": 1000000,  \"tolerance\": 0.0025},\n",
    "    \"VIOLET\":  {\"digit\": 7, \"multiplier\": 10000000, \"tolerance\": 0.001},\n",
    "    \"GREY\":    {\"digit\": 8, \"multiplier\": 100000000,\"tolerance\": 0.0005},\n",
    "    \"WHITE\":   {\"digit\": 9, \"multiplier\": 1000000000,\"tolerance\": 0},\n",
    "    \"GOLD\":    {\"digit\": 0, \"multiplier\": 0.1,    \"tolerance\": 0},\n",
    "    \"SILVER\":  {\"digit\": 0, \"multiplier\": 0.01,   \"tolerance\": 0},\n",
    "    \"NONE\":    {\"digit\": 0, \"multiplier\": 0,    \"tolerance\": 0}\n",
    "}\n",
    "\n",
    "print(\"Ring Band Choices\")\n",
    "for color, property in bands.items():\n",
    "    print(color,\"\\n\" ,property[\"digit\"], property[\"multiplier\"], property[\"tolerance\"])\n"
   ]
  },
  {
   "cell_type": "code",
   "execution_count": 2,
   "id": "2bc4e28d",
   "metadata": {},
   "outputs": [
    {
     "name": "stdout",
     "output_type": "stream",
     "text": [
      "Ring Band Choices\n",
      "BLACK \n",
      " 0 1 _\n",
      "BROWN \n",
      " 1 10 0.01\n",
      "RED \n",
      " 2 100 0.02\n",
      "ORANGE \n",
      " 3 1000 0.03\n",
      "YELLOW \n",
      " 4 10000 0.04\n",
      "GREEN \n",
      " 5 100000 0.005\n",
      "BLUE \n",
      " 6 1000000 0.0025\n",
      "VIOLET \n",
      " 7 10000000 0.001\n",
      "GREY \n",
      " 8 100000000 0.0005\n",
      "WHITE \n",
      " 9 1000000000 0\n",
      "GOLD \n",
      " 0 0.1 0\n",
      "SILVER \n",
      " 0 0.01 0\n",
      "NONE \n",
      " 0 0 0\n"
     ]
    }
   ],
   "source": [
    "print(\"Ring Band Choices\")\n",
    "for color, property in bands.items():\n",
    "    print(color,\"\\n\" ,property[\"digit\"], property[\"multiplier\"], property[\"tolerance\"])\n",
    "\n",
    "\n",
    "while True:\n",
    "    bandC1 = input(\"Enter Color of First Ring: \").upper()\n",
    "    bandC2 = input(\"Enter Color of Second Ring:\").upper()\n",
    "    bandC3 = input(\"Enter Color of Third Ring:\").upper()\n",
    "    bandC4 = input(\"Enter Color of Fourth Ring:\").upper()\n",
    "    \n",
    "    inputtedBands = [bandC1,bandC2,bandC3,bandC4]\n",
    "\n",
    "    if bands[bandC1][\"digit\"] == 0:\n",
    "        input(\"The first band color has no corresponding value. [ENTER TO CONTINUE]\")\n",
    "        continue\n",
    "    \n",
    "    if bands[bandC2][\"digit\"] == 0:\n",
    "        input(\"The second band color has no corresponding value. [ENTER TO CONTINUE]\")\n",
    "        continue\n",
    "\n",
    "    if all(i in bands for i in inputtedBands):\n",
    "        break\n",
    "    else:\n",
    "        print(\"An unsupported color was entered, please try again\")"
   ]
  },
  {
   "cell_type": "code",
   "execution_count": 7,
   "id": "e056a5bd",
   "metadata": {},
   "outputs": [
    {
     "name": "stdout",
     "output_type": "stream",
     "text": [
      "1 2 3\n"
     ]
    }
   ],
   "source": [
    "def simple_seq(n: int):\n",
    "    seq = []\n",
    "    i = 1\n",
    "    while i != n+1:\n",
    "        seq.append(i)\n",
    "        i += 1\n",
    "    \n",
    "    print(*seq)\n",
    "\n",
    "n = int(input())\n",
    "simple_seq(n)"
   ]
  },
  {
   "cell_type": "code",
   "execution_count": 8,
   "id": "410e9765",
   "metadata": {},
   "outputs": [
    {
     "name": "stdout",
     "output_type": "stream",
     "text": [
      "1 7 23 63 159 383\n"
     ]
    }
   ],
   "source": [
    "def woodall(n):\n",
    "    wAll = []\n",
    "    i = 1\n",
    "    while i != n+1:\n",
    "        num = i*2**i-1\n",
    "        wAll.append(num)    \n",
    "        i+=1\n",
    "    print(*wAll)\n",
    "\n",
    "n = int(input())\n",
    "woodall(n)"
   ]
  },
  {
   "cell_type": "code",
   "execution_count": null,
   "id": "680a05a3",
   "metadata": {},
   "outputs": [
    {
     "name": "stdout",
     "output_type": "stream",
     "text": [
      "1 4 6 16 20\n"
     ]
    }
   ],
   "source": [
    "def odd_even(n):\n",
    "    odEv = []\n",
    "    i = 1\n",
    "    while i != n+1:\n",
    "        if i == 1:\n",
    "            odEv.append(1)\n",
    "        elif i % 2 != 0:\n",
    "            num = i**2 -i\n",
    "            odEv.append(num)\n",
    "        elif i % 2 == 0:\n",
    "            num = i**2\n",
    "            odEv.append(num)\n",
    "\n",
    "        i += 1\n",
    "    print(*odEv)\n",
    "\n",
    "n = int(input())\n",
    "odd_even(n)"
   ]
  },
  {
   "cell_type": "code",
   "execution_count": null,
   "id": "13ea6687",
   "metadata": {},
   "outputs": [
    {
     "name": "stdout",
     "output_type": "stream",
     "text": [
      "90\n"
     ]
    }
   ],
   "source": [
    "grades1 = [90, 60, \"one\", \"twenty three\", \"ninety nine\", \"one hundred\"]\n",
    "grades2 = [\"forty seven\", \"sixty eight\", \"eighty two\", \"seventy seven\", \"zero\", 1, \"three\"]\n",
    "grades3 = [\"thirty nine\", \"eleven\", \"twelve\", \"thirteen\", \"nineteen\", \"one hundred\", 99]\n",
    "grades4 = [\"fifty five\", 33, \"twenty\", 0, \"seventy one\", \"seventy\", \"ninety\", 44, 99, 27]\n",
    "\n",
    "\n",
    "h = list(enumerate(grades1)) #enumerate returns (index, str/int)\n",
    "print(h[0][1])"
   ]
  }
 ],
 "metadata": {
  "kernelspec": {
   "display_name": "Python 3",
   "language": "python",
   "name": "python3"
  },
  "language_info": {
   "codemirror_mode": {
    "name": "ipython",
    "version": 3
   },
   "file_extension": ".py",
   "mimetype": "text/x-python",
   "name": "python",
   "nbconvert_exporter": "python",
   "pygments_lexer": "ipython3",
   "version": "3.12.10"
  }
 },
 "nbformat": 4,
 "nbformat_minor": 5
}
